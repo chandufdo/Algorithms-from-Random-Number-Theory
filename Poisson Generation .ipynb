{
 "cells": [
  {
   "cell_type": "code",
   "execution_count": 1,
   "id": "3ba01d6d",
   "metadata": {},
   "outputs": [
    {
     "name": "stdout",
     "output_type": "stream",
     "text": [
      "[4, 5, 4, 3, 1, 2, 6, 2, 5, 2, 4, 5, 2, 5, 2, 3, 3, 3, 4, 3, 6, 6, 5, 3, 2, 4, 5, 6, 6, 0, 9, 5, 6, 3, 6, 1, 3, 2, 2, 1, 4, 7, 1, 5, 8, 8, 8, 4, 4, 7, 5, 2, 5, 3, 6, 7, 7, 2, 5, 3, 2, 3, 8, 2, 10, 7, 7, 8, 2, 2, 9, 4, 11, 3, 6, 4, 2, 3, 2, 3, 6, 1, 3, 4, 8, 3, 3, 7, 3, 4, 3, 12, 2, 6, 1, 7, 4, 7, 6, 3]\n",
      "100\n"
     ]
    },
    {
     "data": {
      "image/png": "[encoded data removed]",
      "text/plain": [
       "<Figure size 432x288 with 1 Axes>"
      ]
     },
     "metadata": {
      "needs_background": "light"
     },
     "output_type": "display_data"
    }
   ],
   "source": [
    "import numpy as np \n",
    "import matplotlib.pyplot as plt\n",
    "import math\n",
    "\n",
    "n = 5000\n",
    "m1 = 2**32 - 209\n",
    "m2 = 2**32 - 22853\n",
    "\n",
    "x = np.zeros(n+3)\n",
    "y = np.zeros(n+3)\n",
    "U = np.zeros(n)   # Generated random numbers \n",
    "\n",
    "x[0] = 15\n",
    "y[0] = 20\n",
    "\n",
    "## need to choose numbers for x[1],x[2],y[1] & y[2]\n",
    "\n",
    "x[1] = 8\n",
    "y[1] = 15\n",
    "\n",
    "x[2] = 25\n",
    "y[2] = 5\n",
    "\n",
    "for i in range(3,n+3):\n",
    "    x[i] = (1403580*x[i-2] - 810728*x[i-3]) % m1\n",
    "    y[i] = (527612*y[i-2] - 1370589*y[i-3]) % m2\n",
    "    \n",
    "for i in range(3,n+3):\n",
    "    if x[i]<=y[i]:\n",
    "        U[i-3] = (x[i]-y[i]+m1)/(m1+1)\n",
    "    else:\n",
    "        U[i-3] = (x[i]-y[i])/(m1+1)\n",
    "#print(U)\n",
    "        \n",
    "## Generate Random variables following the Poisson Distribution \n",
    "\n",
    "L = 5   # Lambda = 5 - Poi(5)\n",
    "N = 100\n",
    "e = math.exp((-1)*L)\n",
    "Poi=[]\n",
    "\n",
    "KK = 0\n",
    "CC = 0\n",
    "\n",
    "while CC<N:\n",
    "    count = 0 \n",
    "    a = 1 \n",
    "    k = 1   # a=1 and n=1 in algorithm step 1\n",
    "    while count<1:\n",
    "        a = a*U[KK+k]\n",
    "        if a >=e:\n",
    "            k=k+1\n",
    "        else:\n",
    "            count=count+1\n",
    "            P=k-1\n",
    "            CC=CC+1\n",
    "    KK=KK+k\n",
    "    Poi.append(P)\n",
    "\n",
    "print(len(Poi))\n",
    "\n",
    "plt.figure(1)\n",
    "plt.hist(Poi,density=True)\n",
    "plt.xlabel(\"Random variables generated\")\n",
    "plt.ylabel(\"Frequency\")\n",
    "plt.title(\"Random variables following Poi(5)\")\n",
    "plt.grid()\n",
    "plt.show()"
   ]
  },
  {
   "cell_type": "code",
   "execution_count": null,
   "id": "df7572ec",
   "metadata": {},
   "outputs": [],
   "source": []
  },
  {
   "cell_type": "code",
   "execution_count": null,
   "id": "9f5f5c17",
   "metadata": {},
   "outputs": [],
   "source": []
  },
  {
   "cell_type": "code",
   "execution_count": null,
   "id": "3c6fd0e0",
   "metadata": {},
   "outputs": [],
   "source": []
  },
  {
   "cell_type": "code",
   "execution_count": null,
   "id": "9ded98d0",
   "metadata": {},
   "outputs": [],
   "source": []
  },
  {
   "cell_type": "code",
   "execution_count": null,
   "id": "443bc944",
   "metadata": {},
   "outputs": [],
   "source": []
  },
  {
   "cell_type": "code",
   "execution_count": null,
   "id": "75510438",
   "metadata": {},
   "outputs": [],
   "source": []
  },
  {
   "cell_type": "code",
   "execution_count": null,
   "id": "51d56933",
   "metadata": {},
   "outputs": [],
   "source": []
  },
  {
   "cell_type": "code",
   "execution_count": null,
   "id": "8bcbb4cf",
   "metadata": {},
   "outputs": [],
   "source": []
  },
  {
   "cell_type": "code",
   "execution_count": null,
   "id": "3ab9ff9b",
   "metadata": {},
   "outputs": [],
   "source": []
  },
  {
   "cell_type": "code",
   "execution_count": null,
   "id": "2199988e",
   "metadata": {},
   "outputs": [],
   "source": []
  },
  {
   "cell_type": "code",
   "execution_count": null,
   "id": "afb8e946",
   "metadata": {},
   "outputs": [],
   "source": []
  },
  {
   "cell_type": "code",
   "execution_count": null,
   "id": "c601af11",
   "metadata": {},
   "outputs": [],
   "source": [
    "\n"
   ]
  },
  {
   "cell_type": "code",
   "execution_count": null,
   "id": "95bc08bc",
   "metadata": {},
   "outputs": [],
   "source": []
  }
 ],
 "metadata": {
  "kernelspec": {
   "display_name": "Python 3 (ipykernel)",
   "language": "python",
   "name": "python3"
  },
  "language_info": {
   "codemirror_mode": {
    "name": "ipython",
    "version": 3
   },
   "file_extension": ".py",
   "mimetype": "text/x-python",
   "name": "python",
   "nbconvert_exporter": "python",
   "pygments_lexer": "ipython3",
   "version": "3.9.12"
  }
 },
 "nbformat": 4,
 "nbformat_minor": 5
}
