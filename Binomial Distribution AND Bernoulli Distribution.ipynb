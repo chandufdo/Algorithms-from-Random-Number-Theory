{
 "cells": [
  {
   "cell_type": "code",
   "execution_count": 1,
   "id": "cd138540",
   "metadata": {},
   "outputs": [
    {
     "name": "stdout",
     "output_type": "stream",
     "text": [
      "[0. 3. 1. 1. 4. 1. 2. 3. 3. 2. 5. 2. 2. 1. 2. 4. 6. 2. 7. 2. 2. 3. 2. 3.\n",
      " 3. 2. 2. 2. 4. 4. 2. 3. 2. 4. 4. 2. 2. 4. 3. 3. 1. 3. 2. 1. 3. 3. 4. 1.\n",
      " 1. 3. 1. 2. 4. 3. 0. 2. 4. 2. 1. 5. 1. 2. 1. 4. 1. 2. 2. 2. 4. 2. 3. 3.\n",
      " 5. 4. 3. 4. 0. 3. 2. 5. 3. 4. 5. 3. 3. 1. 2. 4. 3. 4. 3. 1. 1. 1. 4. 4.\n",
      " 2. 3. 2. 2.]\n",
      "100\n"
     ]
    },
    {
     "data": {
      "image/png": "[encoded data removed]",
      "text/plain": [
       "<Figure size 432x288 with 1 Axes>"
      ]
     },
     "metadata": {
      "needs_background": "light"
     },
     "output_type": "display_data"
    }
   ],
   "source": [
    "## Generate 100 random numbers for Bin(n,p) = Bin(10,0.3)\n",
    "\n",
    "## First generate a U~(0,1) using LCG \n",
    "\n",
    "import numpy as np\n",
    "import matplotlib.pyplot as plt\n",
    "import math\n",
    "\n",
    "\n",
    "n = 1000\n",
    "x = np.zeros(n)\n",
    "x[0] = 1000\n",
    "a = 16807\n",
    "c = 0\n",
    "m = 2147483647\n",
    "U = np.zeros(n)\n",
    "\n",
    "for i in range(0, n - 1):\n",
    "    x[i + 1] = ((a * x[i]) + c) % m\n",
    "    \n",
    "## Generate random numbers and then the Ber(p) / Generating Bernoulli distribution\n",
    "\n",
    "p = 0.3\n",
    "B = np.zeros(n)\n",
    "\n",
    "for i in range(n):\n",
    "    U[i] = x[i] / m\n",
    "    if U[i]<=p:\n",
    "        B[i] = 1\n",
    "    else:\n",
    "        B[i] = 0\n",
    "        \n",
    "#print(B)\n",
    "\n",
    "## Generate Binomial using above generated bernoulli\n",
    "\n",
    "bin = np.zeros(100)\n",
    "for j in range(1,100):\n",
    "    sum = 0\n",
    "    for i in range (1,10):\n",
    "        sum = B [10*j -10 + i] + sum\n",
    "    bin[j] = sum\n",
    "\n",
    "\n",
    "\n",
    "\n",
    "print(len(bin))           \n",
    "\n",
    "plt.figure(1)\n",
    "plt.hist(bin,bins=7,density=True)\n",
    "plt.xlabel(\"Random variables generated\")\n",
    "plt.ylabel(\"Frequency\")\n",
    "plt.title(\"Random variables following Bin(10,0.3)\")\n",
    "plt.grid()\n",
    "plt.show()\n"
   ]
  },
  {
   "cell_type": "code",
   "execution_count": null,
   "id": "f310ff1f",
   "metadata": {},
   "outputs": [],
   "source": []
  },
  {
   "cell_type": "code",
   "execution_count": 4,
   "id": "e099e546",
   "metadata": {},
   "outputs": [
    {
     "name": "stdout",
     "output_type": "stream",
     "text": [
      "[0. 5. 2. 3. 2. 1. 1. 3. 3. 4. 3. 2. 3. 4. 3. 3. 1. 3. 5. 5. 1. 4. 3. 1.\n",
      " 2. 2. 2. 3. 3. 2. 3. 4. 3. 3. 2. 5. 4. 3. 2. 1. 2. 2. 3. 4. 3. 3. 1. 4.\n",
      " 3. 0. 3. 2. 1. 4. 3. 3. 1. 3. 3. 5. 5. 2. 3. 2. 3. 2. 3. 1. 3. 4. 4. 3.\n",
      " 4. 3. 4. 2. 4. 3. 1. 0. 3. 4. 5. 3. 1. 3. 2. 3. 6. 2. 4. 2. 2. 3. 3. 2.\n",
      " 1. 4. 1. 2.]\n",
      "100\n"
     ]
    },
    {
     "data": {
      "image/png": "[encoded data removed]",
      "text/plain": [
       "<Figure size 432x288 with 1 Axes>"
      ]
     },
     "metadata": {
      "needs_background": "light"
     },
     "output_type": "display_data"
    }
   ],
   "source": [
    "## Generate random numbers using combined generator\n",
    "\n",
    "import numpy as np \n",
    "import matplotlib.pyplot as plt\n",
    "\n",
    "n = 100\n",
    "N = 8\n",
    "m1 = 2**32 - 209\n",
    "m2 = 2**32 - 22853\n",
    "p = 0.4\n",
    "\n",
    "x = np.zeros(n*N)\n",
    "y = np.zeros(n*N)\n",
    "U = np.zeros(n*N)   # Generated random numbers \n",
    "B = np.zeros(n*N)  # To hold the ber(p) distribution\n",
    "\n",
    "x[0] = 15\n",
    "y[0] = 20\n",
    "\n",
    "x[1] = 8\n",
    "y[1] = 15\n",
    "\n",
    "x[2] = 25\n",
    "y[2] = 5\n",
    "\n",
    "for i in range(3,n*N):\n",
    "    x[i] = (1403580*x[i-2] - 810728*x[i-3]) % m1\n",
    "    y[i] = (527612*y[i-2] - 1370589*y[i-3]) % m2\n",
    "\n",
    "\n",
    "\n",
    "for i in range(n*N):\n",
    "    if x[i]<=y[i]:\n",
    "        U[i] = (x[i]-y[i]+m1)/(m1+1)\n",
    "    else:\n",
    "        U[i] = (x[i]-y[i])/(m1+1)\n",
    "        \n",
    "    if U[i]<=p:\n",
    "        B[i] = 1\n",
    "    else:\n",
    "        B[i] = 0\n",
    "\n",
    "bin=np.zeros(n)\n",
    "\n",
    "for j in range(1,n):\n",
    "    sum = 0\n",
    "    for i in range (((j-1)*N)+1,j*N):\n",
    "        sum = sum + B[i]\n",
    "    bin[j] = sum\n",
    "\n",
    "print(bin)\n",
    "\n",
    "print(len(bin))\n",
    "\n",
    "## plotting the histogram\n",
    "\n",
    "plt.figure(1)\n",
    "plt.hist(bin,bins=range(0,8))\n",
    "plt.xlabel(\"Random variables generated\")\n",
    "plt.ylabel(\"Frequency\")\n",
    "plt.title(\"Random variables following Bin(8,0.4)\")\n",
    "plt.grid()\n",
    "plt.show()\n"
   ]
  },
  {
   "cell_type": "code",
   "execution_count": null,
   "id": "53e2fea6",
   "metadata": {},
   "outputs": [],
   "source": []
  },
  {
   "cell_type": "code",
   "execution_count": null,
   "id": "05dd2e23",
   "metadata": {},
   "outputs": [],
   "source": []
  }
 ],
 "metadata": {
  "kernelspec": {
   "display_name": "Python 3 (ipykernel)",
   "language": "python",
   "name": "python3"
  },
  "language_info": {
   "codemirror_mode": {
    "name": "ipython",
    "version": 3
   },
   "file_extension": ".py",
   "mimetype": "text/x-python",
   "name": "python",
   "nbconvert_exporter": "python",
   "pygments_lexer": "ipython3",
   "version": "3.9.12"
  }
 },
 "nbformat": 4,
 "nbformat_minor": 5
}
