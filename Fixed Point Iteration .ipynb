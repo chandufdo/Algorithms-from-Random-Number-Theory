{
 "cells": [
  {
   "cell_type": "code",
   "execution_count": 2,
   "id": "5f04d584",
   "metadata": {},
   "outputs": [
    {
     "name": "stdout",
     "output_type": "stream",
     "text": [
      "Enter Starting value : 1.5\n",
      "Precision value : 0.001\n",
      "Iteration =  1 x1 =  1.5874010519681994 f(x1) =  -0.1748021039364005\n",
      "Iteration =  2 x1 =  1.5988795608766146 f(x1) =  -0.02295701781683057\n",
      "Iteration =  3 x1 =  1.6003748549929513 f(x1) =  -0.00299058823267373\n",
      "Iteration =  4 x1 =  1.6005694398895471 f(x1) =  -0.00038916979319125744\n",
      "Root =  1.6005694398895471\n"
     ]
    }
   ],
   "source": [
    "import math\n",
    "\n",
    "def f(x):\n",
    "    return 2*x**3 - 2*x - 5\n",
    "# Re-writing f(x)=0 to x = g(x)\n",
    "def g(x):\n",
    "    return ((2*x +5)/2)**(1/3)\n",
    "\n",
    "def fixedPointIteration(x0, e):\n",
    "    i = 1\n",
    "    \n",
    "    condition_e = True\n",
    "    while condition_e:\n",
    "        x1 = g(x0)\n",
    "        print(\"Iteration = \",i,\"x1 = \",x1,\"f(x1) = \",f(x1))\n",
    "        x0 = x1\n",
    "\n",
    "        i = i + 1\n",
    "        \n",
    "        condition_e = abs(f(x1)) > e\n",
    "    print(\"Root = \",x1)\n",
    "\n",
    "x0 = float(input('Enter Starting value : '))\n",
    "e = float(input('Precision value : '))\n",
    "\n",
    "\n",
    "fixedPointIteration(x0,e)"
   ]
  },
  {
   "cell_type": "code",
   "execution_count": null,
   "id": "14408e1c",
   "metadata": {},
   "outputs": [],
   "source": []
  },
  {
   "cell_type": "code",
   "execution_count": null,
   "id": "354003ef",
   "metadata": {},
   "outputs": [],
   "source": [
    "## When N iterations are required \n",
    "\n",
    "\n",
    "import math\n",
    "\n",
    "def f(x):\n",
    "    return 2*x**3 - 2*x - 5\n",
    "# Re-writing f(x)=0 to x = g(x)\n",
    "def g(x):\n",
    "    return 5/(2*(x**2 - 1))\n",
    "\n",
    "def fixedPointIteration(x0,e,N):\n",
    "    i = 1\n",
    "    condition_N = 1\n",
    "    condition_e = True\n",
    "    while condition_e:\n",
    "        x1 = g(x0)\n",
    "        print(\"Iteration = \",i,\"x1 = \",x1,\"f(x1) = \",f(x1))\n",
    "        x0 = x1\n",
    "\n",
    "        i = i + 1\n",
    "        \n",
    "        if i>N:\n",
    "            condition_N = 0 \n",
    "            break \n",
    "            condition_e = abs(f(x1)) > e\n",
    "            \n",
    "        if condition_N == 1:\n",
    "            print(\"Root = \",x1)\n",
    "        else:\n",
    "            print(\"Not convergent\")\n",
    "        \n",
    "\n",
    "x0 = float(input('Enter Starting value : '))\n",
    "e = float(input('Precision value : '))\n",
    "N = int(input('Iterations: '))\n",
    "\n",
    "\n",
    "fixedPointIteration(x0,e,N)\n"
   ]
  },
  {
   "cell_type": "code",
   "execution_count": null,
   "id": "16b038a0",
   "metadata": {},
   "outputs": [],
   "source": []
  },
  {
   "cell_type": "code",
   "execution_count": null,
   "id": "a4bf8404",
   "metadata": {},
   "outputs": [],
   "source": []
  },
  {
   "cell_type": "code",
   "execution_count": null,
   "id": "c1fab31d",
   "metadata": {},
   "outputs": [],
   "source": []
  },
  {
   "cell_type": "code",
   "execution_count": null,
   "id": "69085cd8",
   "metadata": {},
   "outputs": [],
   "source": []
  },
  {
   "cell_type": "code",
   "execution_count": null,
   "id": "9cdea3a9",
   "metadata": {},
   "outputs": [],
   "source": []
  }
 ],
 "metadata": {
  "kernelspec": {
   "display_name": "Python 3 (ipykernel)",
   "language": "python",
   "name": "python3"
  },
  "language_info": {
   "codemirror_mode": {
    "name": "ipython",
    "version": 3
   },
   "file_extension": ".py",
   "mimetype": "text/x-python",
   "name": "python",
   "nbconvert_exporter": "python",
   "pygments_lexer": "ipython3",
   "version": "3.9.12"
  }
 },
 "nbformat": 4,
 "nbformat_minor": 5
}
