{
 "cells": [
  {
   "cell_type": "code",
   "execution_count": 31,
   "id": "e02e9a95",
   "metadata": {},
   "outputs": [
    {
     "name": "stdout",
     "output_type": "stream",
     "text": [
      "No. of RN =  100\n",
      "No. of intervals =  100\n",
      "Expected Value =  1.0\n",
      "Chi square value =  124.0\n",
      "Chi square table value= 128.42198864\n",
      "Alpha value (significance level) = 0.025\n",
      "Do not reject null hypothesis\n",
      "Random numbers are iid\n"
     ]
    }
   ],
   "source": [
    "import numpy as np\n",
    "import matplotlib.pyplot as plt\n",
    "\n",
    "## Generate random numbers using LCG\n",
    "\n",
    "n = 100\n",
    "x = np.zeros(n)\n",
    "x[0] = 1000\n",
    "a = 16807\n",
    "c = 0\n",
    "m = 2147483647\n",
    "U = np.zeros(n)\n",
    "\n",
    "for i in range(0, n - 1):\n",
    "    x[i + 1] = ((a * x[i]) + c) % m\n",
    "\n",
    "for i in range(n):\n",
    "    U[i] = x[i] / m\n",
    "    \n",
    "## Generate chi square table \n",
    "\n",
    "k = 100  # no. of intervals\n",
    "\n",
    "ExpVal = n/k\n",
    "\n",
    "print(\"No. of RN = \",n)\n",
    "print(\"No. of intervals = \",k)\n",
    "print(\"Expected Value = \",ExpVal)\n",
    "\n",
    "P = np.zeros(k+1) # interval array (Partition of (0,1))\n",
    "P[0] = 0 \n",
    "P[k] = 1 \n",
    "for i in range(1,k):\n",
    "    P[i] = ((1-0)/k)*i\n",
    "\n",
    "ObsVal = np.zeros(k)\n",
    "\n",
    "for i in range(n):\n",
    "    for j in range(k):\n",
    "        if P[j]<=U[i] and U[i]<=P[j+1]:\n",
    "            ObsVal[j] = ObsVal[j]+1\n",
    "            \n",
    "    \n",
    "# print(\"Frequency of observed values\")\n",
    "# for j in range(k):\n",
    "#     print(\"[\",j/100,\",\",(j+1)/100,\"]\" \" = \",ObsVal[j])\n",
    "\n",
    "\n",
    "chival=0\n",
    "for j in range(k):\n",
    "    chival = chival + ((ObsVal[j]-ExpVal)**2/ExpVal)\n",
    "print(\"Chi square value = \",chival)\n",
    "\n",
    "\n",
    "chitable = float(input(\"Chi square table value= \"))\n",
    "alpha = float(input(\"Alpha value (significance level) = \"))\n",
    "\n",
    "if chival < chitable:\n",
    "    print(\"Do not reject null hypothesis\")\n",
    "    print(\"Random numbers are iid\")\n",
    "else:\n",
    "    print(\"Reject null hypothesis\")\n",
    "    print(\"Random numbers are not iid\")"
   ]
  },
  {
   "cell_type": "code",
   "execution_count": null,
   "id": "e7d5c7bb",
   "metadata": {},
   "outputs": [],
   "source": [
    "\n",
    "    \n",
    "    \n",
    "\n",
    "\n",
    "\n",
    "                     \n",
    "                     "
   ]
  },
  {
   "cell_type": "code",
   "execution_count": null,
   "id": "65fae53c",
   "metadata": {},
   "outputs": [],
   "source": []
  },
  {
   "cell_type": "code",
   "execution_count": null,
   "id": "1b8758dc",
   "metadata": {},
   "outputs": [],
   "source": []
  },
  {
   "cell_type": "code",
   "execution_count": null,
   "id": "5c3fa000",
   "metadata": {},
   "outputs": [],
   "source": []
  },
  {
   "cell_type": "code",
   "execution_count": null,
   "id": "08bdad71",
   "metadata": {},
   "outputs": [],
   "source": []
  },
  {
   "cell_type": "code",
   "execution_count": null,
   "id": "c1beb57e",
   "metadata": {},
   "outputs": [],
   "source": []
  },
  {
   "cell_type": "code",
   "execution_count": null,
   "id": "6c94971b",
   "metadata": {},
   "outputs": [],
   "source": []
  },
  {
   "cell_type": "code",
   "execution_count": null,
   "id": "3fda70d7",
   "metadata": {},
   "outputs": [],
   "source": []
  },
  {
   "cell_type": "code",
   "execution_count": null,
   "id": "635074b6",
   "metadata": {},
   "outputs": [],
   "source": []
  },
  {
   "cell_type": "code",
   "execution_count": null,
   "id": "453fb579",
   "metadata": {},
   "outputs": [],
   "source": []
  }
 ],
 "metadata": {
  "kernelspec": {
   "display_name": "Python 3 (ipykernel)",
   "language": "python",
   "name": "python3"
  },
  "language_info": {
   "codemirror_mode": {
    "name": "ipython",
    "version": 3
   },
   "file_extension": ".py",
   "mimetype": "text/x-python",
   "name": "python",
   "nbconvert_exporter": "python",
   "pygments_lexer": "ipython3",
   "version": "3.9.12"
  }
 },
 "nbformat": 4,
 "nbformat_minor": 5
}
