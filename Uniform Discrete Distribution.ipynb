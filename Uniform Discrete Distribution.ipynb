{
 "cells": [
  {
   "cell_type": "code",
   "execution_count": 2,
   "id": "39884a9d",
   "metadata": {},
   "outputs": [
    {
     "name": "stdout",
     "output_type": "stream",
     "text": [
      "[15. 15.  5.  5.  5. 10.  5.  9.  5. 13. 13.  6. 12. 15. 14.  9. 10. 14.\n",
      " 14. 14.  6.  5. 12.  7.  8. 11.  7.  9. 14. 15. 12.  9.  6. 12. 15. 10.\n",
      " 13.  9. 15. 15. 11. 12. 10. 15. 12. 11.  8. 13. 12.  9. 11.  7. 13.  7.\n",
      " 15. 10.  6. 13.  9. 12. 11.  6.  6. 14.  6. 13. 10.  5. 11.  7.  6.  5.\n",
      "  7.  5.  9. 13.  7. 12. 13. 13. 15.  9.  6.  9. 11. 13. 10. 10.  6.  6.\n",
      "  6. 13. 13.  8. 15. 15.  9. 13. 14.  5.]\n"
     ]
    },
    {
     "data": {
      "image/png": "[encoded data removed]",
      "text/plain": [
       "<Figure size 432x288 with 1 Axes>"
      ]
     },
     "metadata": {
      "needs_background": "light"
     },
     "output_type": "display_data"
    }
   ],
   "source": [
    "# * Method 1 * \n",
    "\n",
    "# 1) Generate uniform random numbers \n",
    "# 2) Generate discrete uniform distribution on\n",
    "#    {a,...,b} using table lookup method \n",
    "\n",
    "# * Method 2 * \n",
    "# 1) Generate U~U(0,1)\n",
    "# 2) X = ceil[a + (b-a+1)U]\n",
    "\n",
    "### **THIS CODE FOLLOWS METHOD 2** \n",
    "\n",
    "## Combined generator - L'Ecuyer\n",
    "\n",
    "import numpy as np \n",
    "import matplotlib.pyplot as plt\n",
    "import math\n",
    "\n",
    "n = 100\n",
    "m1 = 2**32 - 209\n",
    "m2 = 2**32 - 22853\n",
    "\n",
    "x = np.zeros(n)\n",
    "y = np.zeros(n)\n",
    "U = np.zeros(n)   # Generated random numbers \n",
    "\n",
    "x[0] = 15\n",
    "y[0] = 20\n",
    "\n",
    "## need to choose numbers for x[1],x[2],y[1] & y[2]\n",
    "\n",
    "x[1] = 8\n",
    "y[1] = 15\n",
    "\n",
    "x[2] = 25\n",
    "y[2] = 5\n",
    "\n",
    "for i in range(3,n):\n",
    "    x[i] = (1403580*x[i-2] - 810728*x[i-3]) % m1\n",
    "    y[i] = (527612*y[i-2] - 1370589*y[i-3]) % m2\n",
    "    \n",
    "for i in range(n):\n",
    "    if x[i]<=y[i]:\n",
    "        U[i] = (x[i]-y[i]+m1)/(m1+1)\n",
    "    else:\n",
    "        U[i] = (x[i]-y[i])/(m1+1)\n",
    "        \n",
    "## Generate random numbers following discrete uniform distribution        \n",
    "\n",
    "a = 5 \n",
    "b = 15\n",
    "R = b-a+1\n",
    "X = np.zeros(n)\n",
    "\n",
    "for i in range(n):\n",
    "    X[i] = math.floor(a+(R*U[i])) \n",
    "print(X)\n",
    "\n",
    "## plotting a histogram \n",
    "\n",
    "plt.figure(1)\n",
    "plt.hist(X,bins=range(a,b+2))\n",
    "plt.xlabel(\"Random variables generated\")\n",
    "plt.ylabel(\"Frequency\")\n",
    "plt.title(\"Random variables following DU(5,15)\")\n",
    "plt.grid()\n",
    "plt.show()\n",
    "    \n"
   ]
  },
  {
   "cell_type": "code",
   "execution_count": null,
   "id": "5625aa3e",
   "metadata": {},
   "outputs": [],
   "source": []
  },
  {
   "cell_type": "code",
   "execution_count": null,
   "id": "2d675484",
   "metadata": {},
   "outputs": [],
   "source": []
  },
  {
   "cell_type": "code",
   "execution_count": null,
   "id": "d30321b8",
   "metadata": {},
   "outputs": [],
   "source": []
  },
  {
   "cell_type": "code",
   "execution_count": null,
   "id": "fe76cf41",
   "metadata": {},
   "outputs": [],
   "source": []
  }
 ],
 "metadata": {
  "kernelspec": {
   "display_name": "Python 3 (ipykernel)",
   "language": "python",
   "name": "python3"
  },
  "language_info": {
   "codemirror_mode": {
    "name": "ipython",
    "version": 3
   },
   "file_extension": ".py",
   "mimetype": "text/x-python",
   "name": "python",
   "nbconvert_exporter": "python",
   "pygments_lexer": "ipython3",
   "version": "3.9.12"
  }
 },
 "nbformat": 4,
 "nbformat_minor": 5
}
