{
 "cells": [
  {
   "cell_type": "code",
   "execution_count": 1,
   "id": "8424e74e",
   "metadata": {},
   "outputs": [
    {
     "name": "stdout",
     "output_type": "stream",
     "text": [
      "Enter no. of terms (k): 3\n",
      "a[0]=16807\n",
      "a[1]=0\n",
      "a[2]=16000\n",
      "a =  [16807.     0. 16000.]\n",
      "x[0]=10000000\n",
      "x[1]=35670000\n",
      "x[2]=98760000\n",
      "x = [ 10000000.0 , 35670000.0 , 98760000.0 ]\n",
      "u =  [0.00465661 0.01661014 0.04598871 0.         0.43803406 0.76221002\n",
      " 0.85786729 0.46373938 0.72059111 0.42809422 0.85142938 0.80967213\n",
      " 0.43138894 0.66703082 0.22407633 0.541166   0.2740143  0.87004641\n",
      " 0.57975302 0.52590744 0.13792838 0.66884444 0.21061396 0.78750107\n",
      " 0.64286486 0.04158612 0.45307011 0.9551801  0.58712739 0.08989409\n",
      " 0.97188991 0.73158824 0.59207019 0.1090738  0.16221532 0.61530768\n",
      " 0.47585698 0.657127   0.17332922 0.25651245 0.85579423 0.23673512\n",
      " 0.60103871 0.00629113 0.36522714 0.49688969 0.99185793 0.88296594\n",
      " 0.79039869 0.24349078 0.95771668 0.80455513 0.72326857 0.01053411\n",
      " 0.44160486 0.92890074 0.3499833  0.58048867 0.84718496 0.68492763\n",
      " 0.37046602 0.39751264 0.38181152 0.83705159 0.5626102  0.52831346\n",
      " 0.77395454 0.18975288 0.61716708 0.19193256 0.99980814 0.85650343\n",
      " 0.44875311 0.1740918  0.12383641 0.01587715 0.36839705 0.31605993\n",
      " 0.03173923 0.05359106 0.79397312 0.66387072 0.13386223 0.13225207\n",
      " 0.3923188  0.69217033 0.49778287 0.33996213 0.33757472 0.46880838\n",
      " 0.14429409 0.65639685 0.34629243 0.99580896 0.84225726 0.91071166\n",
      " 0.49659521 0.27416726 0.39184813 0.31568993]\n"
     ]
    },
    {
     "data": {
      "image/png": "[encoded data removed]",
      "text/plain": [
       "<Figure size 432x288 with 1 Axes>"
      ]
     },
     "metadata": {
      "needs_background": "light"
     },
     "output_type": "display_data"
    }
   ],
   "source": [
    "# Multiple recursive generator (final)\n",
    "\n",
    "import numpy as np\n",
    "import matplotlib.pyplot as plt\n",
    "\n",
    "n = 100\n",
    "m = 2**31 - 1\n",
    "\n",
    "k = int(input(\"Enter no. of terms (k): \"))\n",
    "\n",
    "a = np.zeros(k)\n",
    "for i in range(k):\n",
    "    a[i] = float(input( 'a['+str(i)+']='))\n",
    "    \n",
    "print(\"a = \",a)\n",
    "\n",
    "x = np.zeros(n)\n",
    "for i in range(0,k):\n",
    "    x[i] = float(input( 'x['+str(i)+']=')) \n",
    "    \n",
    "for i in range(k,n-1):\n",
    "    x[i+1] = (a[0]*x[i-1] + a[1]*x[i-2] + a[2]*x[i-3])% m\n",
    "\n",
    "#print(\"x = \",x)    \n",
    "print (\"x = [\", x[0],\",\",x[1],\",\",x[2],\"]\")\n",
    "\n",
    "u = np.zeros(n)\n",
    "for i in range(n):\n",
    "    u[i] = x[i]/ m\n",
    "\n",
    "print(\"u = \",u)\n",
    "\n",
    "#print scatter plot\n",
    "\n",
    "xval = np.linspace(0,100,100)\n",
    "yval = u\n",
    "\n",
    "plt.figure(1)\n",
    "plt.scatter(xval,yval, color = \"red\")\n",
    "plt.show()\n",
    "\n"
   ]
  },
  {
   "cell_type": "code",
   "execution_count": null,
   "id": "540829cc",
   "metadata": {},
   "outputs": [],
   "source": [
    "a[0]=16807\n",
    "a[1]=0\n",
    "a[2]=16000"
   ]
  },
  {
   "cell_type": "code",
   "execution_count": 17,
   "id": "cfbe6e8e",
   "metadata": {},
   "outputs": [
    {
     "name": "stdout",
     "output_type": "stream",
     "text": [
      "n =  100\n",
      "m =  2147483647\n",
      "a =  [0, 10000000, 0, 0, 4000000, 0, 0, 0, 800000, 0, 0]\n",
      "x = [ 1000.0 , 2000.0 , 3000.0 , 40000.0 , 50000.0 , 60000.0 , 700000.0 , 800000.0 , 900000.0 , 10000000.0 , 1000000000.0 ]\n",
      "u =  [4.65661288e-07 9.31322575e-07 1.39698386e-06 1.86264515e-05\n",
      " 2.32830644e-05 2.79396773e-05 3.25962901e-04 3.72529030e-04\n",
      " 4.19095159e-04 4.65661288e-03 4.65661288e-01 9.51587721e-01\n",
      " 1.28752458e-01 8.75245797e-01 2.12172317e-01 5.79692411e-01\n",
      " 9.69241058e-01 1.69517574e-01 1.05750827e-01 5.75082717e-01\n",
      " 7.44451199e-01 2.71679985e-01 1.67998453e-01 9.86078933e-01\n",
      " 8.45321476e-01 5.32147639e-01 3.28748728e-01 7.63874754e-01\n",
      " 3.87475373e-01 2.78360635e-01 5.37340386e-01 7.34038562e-01\n",
      " 3.47061510e-01 8.56239004e-01 6.23900399e-01 1.03594314e-01\n",
      " 3.99368210e-02 9.93682100e-01 1.38895530e-01 2.09950332e-01\n",
      " 9.95033170e-01 2.98526657e-01 3.16962860e-01 6.96286021e-01\n",
      " 5.74185931e-01 6.02065904e-01 2.06590435e-01 3.13911693e-01\n",
      " 4.34632539e-02 3.46325390e-01 9.28511819e-01 5.39020214e-01\n",
      " 9.02021448e-01 1.93032741e-01 1.44808230e-01 4.80823006e-01\n",
      " 4.07051962e-01 3.00577351e-01 5.77351032e-02 6.15928884e-01\n",
      " 5.10320938e-01 3.20937964e-02 8.44167855e-01 3.79642834e-01\n",
      " 9.64283367e-01 5.50300039e-01 3.36667096e-01 6.66709640e-01\n",
      " 3.86759173e-01 9.63990815e-01 3.99081450e-01 7.33051274e-01\n",
      " 1.45014154e-01 5.01415386e-01 7.38474883e-01 5.38609816e-01\n",
      " 8.60981648e-01 8.34830126e-01 1.64779180e-01 4.77917981e-01\n",
      " 2.61825627e-01 7.98062526e-01 8.06252560e-01 2.73036011e-01\n",
      " 2.55955674e-01 5.95567434e-01 1.06905159e-01 7.43390652e-01\n",
      " 3.39065177e-01 5.86589334e-01 5.17659270e-01 7.65927045e-01\n",
      " 3.43401092e-01 7.04456576e-01 4.45657554e-01 9.17988611e-01\n",
      " 7.55429010e-01 5.42900979e-01 1.08813754e-01 9.79306037e-02]\n"
     ]
    },
    {
     "data": {
      "image/png": "[encoded data removed]",
      "text/plain": [
       "<Figure size 432x288 with 1 Axes>"
      ]
     },
     "metadata": {
      "needs_background": "light"
     },
     "output_type": "display_data"
    }
   ],
   "source": [
    "# Multiple recursive generator\n",
    "\n",
    "import numpy as np\n",
    "import matplotlib.pyplot as plt\n",
    "\n",
    "n = 100\n",
    "m = 2**31 - 1\n",
    "\n",
    "k = 10\n",
    "\n",
    "a = np.zeros(k)\n",
    "\n",
    "a = [0,10000000,0,0,4000000,0,0,0,800000,0,0]\n",
    "print(\"n = \",n)\n",
    "print(\"m = \",m)\n",
    "print(\"a = \",a)\n",
    "\n",
    "x = np.zeros(n)\n",
    "x[0] = 1000\n",
    "x[1] = 2000\n",
    "x[2] = 3000\n",
    "x[3] = 40000\n",
    "x[4] = 50000\n",
    "x[5] = 60000\n",
    "x[6] = 700000\n",
    "x[7] = 800000\n",
    "x[8] = 900000\n",
    "x[9] = 10000000\n",
    "x[10] = 1000000000\n",
    "  \n",
    "for i in range(k,n-1):\n",
    "    x[i+1] = (a[0]*x[i-1] + a[1]*x[i-2] + a[2]*x[i-3])% m\n",
    "\n",
    "#print(\"x = \",x)    \n",
    "print (\"x = [\", x[0],\",\",x[1],\",\",x[2],\",\",x[3],\",\",x[4],\",\",x[5],\",\",x[6],\",\",x[7],\",\",x[8],\",\",x[9],\",\",x[10],\"]\")\n",
    "\n",
    "u = np.zeros(n)\n",
    "for i in range(n):\n",
    "    u[i] = x[i]/ m\n",
    "\n",
    "print(\"u = \",u)\n",
    "\n",
    "#print scatter plot\n",
    "\n",
    "xval = np.linspace(0,100,100)\n",
    "yval = u\n",
    "\n",
    "plt.figure(1)\n",
    "plt.scatter(xval,yval, color = \"red\")\n",
    "plt.show()\n",
    "\n"
   ]
  },
  {
   "cell_type": "code",
   "execution_count": null,
   "id": "abe84783",
   "metadata": {},
   "outputs": [],
   "source": []
  },
  {
   "cell_type": "code",
   "execution_count": null,
   "id": "e762c10f",
   "metadata": {},
   "outputs": [],
   "source": []
  },
  {
   "cell_type": "code",
   "execution_count": null,
   "id": "c3433bd9",
   "metadata": {},
   "outputs": [],
   "source": []
  },
  {
   "cell_type": "code",
   "execution_count": null,
   "id": "65a1911a",
   "metadata": {},
   "outputs": [],
   "source": []
  },
  {
   "cell_type": "code",
   "execution_count": null,
   "id": "86fcfde7",
   "metadata": {},
   "outputs": [],
   "source": []
  },
  {
   "cell_type": "code",
   "execution_count": null,
   "id": "2ea29e4b",
   "metadata": {},
   "outputs": [],
   "source": []
  },
  {
   "cell_type": "code",
   "execution_count": null,
   "id": "4b5ff2e2",
   "metadata": {},
   "outputs": [],
   "source": []
  },
  {
   "cell_type": "code",
   "execution_count": null,
   "id": "9f773ca9",
   "metadata": {},
   "outputs": [],
   "source": []
  }
 ],
 "metadata": {
  "kernelspec": {
   "display_name": "Python 3 (ipykernel)",
   "language": "python",
   "name": "python3"
  },
  "language_info": {
   "codemirror_mode": {
    "name": "ipython",
    "version": 3
   },
   "file_extension": ".py",
   "mimetype": "text/x-python",
   "name": "python",
   "nbconvert_exporter": "python",
   "pygments_lexer": "ipython3",
   "version": "3.9.12"
  }
 },
 "nbformat": 4,
 "nbformat_minor": 5
}
