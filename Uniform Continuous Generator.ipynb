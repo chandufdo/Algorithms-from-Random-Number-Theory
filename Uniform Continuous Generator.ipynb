{
 "cells": [
  {
   "cell_type": "code",
   "execution_count": 1,
   "id": "2b69b587",
   "metadata": {},
   "outputs": [
    {
     "name": "stdout",
     "output_type": "stream",
     "text": [
      "[9.99999999e+00 9.99999998e+00 4.65661310e-08 4.32784783e-02\n",
      " 1.08375906e-01 5.11714454e+00 2.28183772e-01 3.66595620e+00\n",
      " 1.12057001e-01 7.78922579e+00 7.80603641e+00 1.66401270e+00\n",
      " 7.21659442e+00 9.98255875e+00 8.55858634e+00 3.95125799e+00\n",
      " 4.61898773e+00 8.55424343e+00 8.87490882e+00 8.58553365e+00\n",
      " 1.76214627e+00 9.32666868e-02 6.98484409e+00 2.29761075e+00\n",
      " 3.27348081e+00 6.13088804e+00 2.63037520e+00 4.39568873e+00\n",
      " 8.92641523e+00 9.36480069e+00 6.59741436e+00 3.75118286e+00\n",
      " 1.25067623e+00 6.83110586e+00 9.85264661e+00 4.59448239e+00\n",
      " 7.64092413e+00 3.70248334e+00 9.46575724e+00 9.88230145e+00\n",
      " 6.09956743e+00 7.09984030e+00 5.31579431e+00 9.60848706e+00\n",
      " 7.23294616e+00 5.46704225e+00 2.99880592e+00 7.70368738e+00\n",
      " 6.37161200e+00 3.94115811e+00 6.34854462e+00 2.31968372e+00\n",
      " 7.42718614e+00 1.93400635e+00 9.27221415e+00 5.10256330e+00\n",
      " 1.42386021e+00 8.10622256e+00 3.77567878e+00 7.00101172e+00\n",
      " 6.23056178e+00 1.72411756e+00 9.90810799e-01 8.71786678e+00\n",
      " 1.46915101e+00 7.89212276e+00 4.58895624e+00 6.53382460e-01\n",
      " 5.76789206e+00 2.34110480e+00 1.04819958e+00 6.14176110e-01\n",
      " 2.48795232e+00 5.98079733e-01 3.89061817e+00 7.50788861e+00\n",
      " 2.57238148e+00 7.11249539e+00 7.53424616e+00 8.06646157e+00\n",
      " 9.55700174e+00 4.31108534e+00 1.61642821e+00 3.96676985e+00\n",
      " 5.62951642e+00 7.45673207e+00 4.94546843e+00 5.35614034e+00\n",
      " 9.32891561e-01 1.56669370e+00 1.50883398e+00 7.86773984e+00\n",
      " 7.52703537e+00 2.80687641e+00 9.33185294e+00 9.63237140e+00\n",
      " 4.38404906e+00 7.84325357e+00 9.03839732e+00 8.29438207e-01]\n"
     ]
    },
    {
     "data": {
      "image/png": "[encoded data removed]",
      "text/plain": [
       "<Figure size 432x288 with 1 Axes>"
      ]
     },
     "metadata": {
      "needs_background": "light"
     },
     "output_type": "display_data"
    }
   ],
   "source": [
    "## Uniform Continuous Generator \n",
    "# Using U(0,10)\n",
    "\n",
    "\n",
    "## Generate random numbers (L'Ecuyer)\n",
    "\n",
    "import numpy as np \n",
    "import matplotlib.pyplot as plt\n",
    "import math\n",
    "\n",
    "n = 100\n",
    "m1 = 2**32 - 209\n",
    "m2 = 2**32 - 22853\n",
    "\n",
    "x = np.zeros(n)\n",
    "y = np.zeros(n)\n",
    "U = np.zeros(n)   # Generated random numbers \n",
    "\n",
    "x[0] = 15\n",
    "y[0] = 20\n",
    "\n",
    "## need to choose numbers for x[1],x[2],y[1] & y[2]\n",
    "\n",
    "x[1] = 8\n",
    "y[1] = 15\n",
    "\n",
    "x[2] = 25\n",
    "y[2] = 5\n",
    "\n",
    "for i in range(3,n):\n",
    "    x[i] = (1403580*x[i-2] - 810728*x[i-3]) % m1\n",
    "    y[i] = (527612*y[i-2] - 1370589*y[i-3]) % m2\n",
    "    \n",
    "for i in range(n):\n",
    "    if x[i]<=y[i]:\n",
    "        U[i] = (x[i]-y[i]+m1)/(m1+1)\n",
    "    else:\n",
    "        U[i] = (x[i]-y[i])/(m1+1)\n",
    "        \n",
    "## Generating uniform continous distribution \n",
    "# following the U(0,10) distribution\n",
    "\n",
    "a = 0\n",
    "b = 10\n",
    "X = np.zeros(n)\n",
    "\n",
    "for i in range(n):\n",
    "    X[i] = a + (b-a)*U[i]\n",
    "\n",
    "print(X)\n",
    "\n",
    "plt.figure(1)\n",
    "plt.hist(X,bins=range(0,10+2),density=True)\n",
    "plt.xlabel(\"Random variables generated\")\n",
    "plt.ylabel(\"Frequency\")\n",
    "plt.title(\"Random variables following U(0,10)\")\n",
    "plt.grid()\n",
    "plt.show()"
   ]
  },
  {
   "cell_type": "code",
   "execution_count": null,
   "id": "e4a6deb5",
   "metadata": {},
   "outputs": [],
   "source": []
  },
  {
   "cell_type": "code",
   "execution_count": null,
   "id": "ac22f83f",
   "metadata": {},
   "outputs": [],
   "source": []
  },
  {
   "cell_type": "code",
   "execution_count": null,
   "id": "e5cee4b3",
   "metadata": {},
   "outputs": [],
   "source": []
  },
  {
   "cell_type": "code",
   "execution_count": null,
   "id": "1ea5ffc8",
   "metadata": {},
   "outputs": [],
   "source": []
  }
 ],
 "metadata": {
  "kernelspec": {
   "display_name": "Python 3 (ipykernel)",
   "language": "python",
   "name": "python3"
  },
  "language_info": {
   "codemirror_mode": {
    "name": "ipython",
    "version": 3
   },
   "file_extension": ".py",
   "mimetype": "text/x-python",
   "name": "python",
   "nbconvert_exporter": "python",
   "pygments_lexer": "ipython3",
   "version": "3.9.12"
  }
 },
 "nbformat": 4,
 "nbformat_minor": 5
}
