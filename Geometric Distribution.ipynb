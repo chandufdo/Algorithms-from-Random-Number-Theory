{
 "cells": [
  {
   "cell_type": "code",
   "execution_count": 12,
   "id": "6ab1b866",
   "metadata": {},
   "outputs": [
    {
     "name": "stdout",
     "output_type": "stream",
     "text": [
      "[ 1.  1. 16.  5.  4.  1.  4.  1.  4.  1.  1.  2.  1.  1.  1.  1.  1.  1.\n",
      "  1.  1.  2.  4.  1.  2.  1.  1.  2.  1.  1.  1.  1.  1.  2.  1.  1.  1.\n",
      "  1.  1.  1.  1.  1.  1.  1.  1.  1.  1.  2.  1.  1.  1.  1.  2.  1.  2.\n",
      "  1.  1.  2.  1.  1.  1.  1.  2.  2.  1.  2.  1.  1.  3.  1.  2.  2.  3.\n",
      "  2.  3.  1.  1.  2.  1.  1.  1.  1.  1.  2.  1.  1.  1.  1.  1.  2.  2.\n",
      "  2.  1.  1.  2.  1.  1.  1.  1.  1.  3.]\n"
     ]
    },
    {
     "data": {
      "image/png": "[encoded data removed]",
      "text/plain": [
       "<Figure size 432x288 with 1 Axes>"
      ]
     },
     "metadata": {
      "needs_background": "light"
     },
     "output_type": "display_data"
    }
   ],
   "source": [
    "## Geometric Distribution Generator\n",
    "\n",
    "## Generate random numbers (L'Ecuyer)\n",
    "\n",
    "import numpy as np \n",
    "import matplotlib.pyplot as plt\n",
    "import math\n",
    "\n",
    "n = 100\n",
    "m1 = 2**32 - 209\n",
    "m2 = 2**32 - 22853\n",
    "\n",
    "x = np.zeros(n)\n",
    "y = np.zeros(n)\n",
    "U = np.zeros(n)   # Generated random numbers \n",
    "\n",
    "x[0] = 15\n",
    "y[0] = 20\n",
    "\n",
    "## need to choose numbers for x[1],x[2],y[1] & y[2]\n",
    "\n",
    "x[1] = 8\n",
    "y[1] = 15\n",
    "\n",
    "x[2] = 25\n",
    "y[2] = 5\n",
    "\n",
    "for i in range(3,n):\n",
    "    x[i] = (1403580*x[i-2] - 810728*x[i-3]) % m1\n",
    "    y[i] = (527612*y[i-2] - 1370589*y[i-3]) % m2\n",
    "    \n",
    "for i in range(n):\n",
    "    if x[i]<=y[i]:\n",
    "        U[i] = (x[i]-y[i]+m1)/(m1+1)\n",
    "    else:\n",
    "        U[i] = (x[i]-y[i])/(m1+1)\n",
    "        \n",
    "## Generating random variables following Geometric Distribution\n",
    "# ( using Exp(-ln(1-p)) distribution )\n",
    "\n",
    "U1 = np.zeros(n)  # 1-U~U(0,1)\n",
    "p = 0.7    \n",
    "L = (-1)*np.log(1-p) # Lambda\n",
    "Y = np.zeros(n)   # Exponential distribution \n",
    "X = np.zeros(n)   # Geometric distribution\n",
    "\n",
    "for i in range(n):\n",
    "    U1[i] = 1 - U[i]\n",
    "    Y[i] = (-1/L)*(np.log(U[i]))\n",
    "    X[i] = math.ceil(Y[i])\n",
    "#print(Y)\n",
    "print(X)\n",
    "\n",
    "## plotting a histogram \n",
    "\n",
    "plt.figure(1)\n",
    "plt.hist(X,bins=range(0,17),density=True)\n",
    "plt.xlabel(\"Random variables generated\")\n",
    "plt.ylabel(\"Frequency\")\n",
    "plt.title(\"Random variables following Exp(3)\")\n",
    "plt.grid()\n",
    "plt.show()"
   ]
  },
  {
   "cell_type": "code",
   "execution_count": null,
   "id": "944d2fb9",
   "metadata": {},
   "outputs": [],
   "source": []
  },
  {
   "cell_type": "code",
   "execution_count": null,
   "id": "a26babd2",
   "metadata": {},
   "outputs": [],
   "source": []
  },
  {
   "cell_type": "code",
   "execution_count": null,
   "id": "81f4ccd3",
   "metadata": {},
   "outputs": [],
   "source": []
  },
  {
   "cell_type": "code",
   "execution_count": null,
   "id": "ec27fdb5",
   "metadata": {},
   "outputs": [],
   "source": []
  },
  {
   "cell_type": "code",
   "execution_count": null,
   "id": "084eeefb",
   "metadata": {},
   "outputs": [],
   "source": []
  },
  {
   "cell_type": "code",
   "execution_count": null,
   "id": "d98db8e0",
   "metadata": {},
   "outputs": [],
   "source": []
  }
 ],
 "metadata": {
  "kernelspec": {
   "display_name": "Python 3 (ipykernel)",
   "language": "python",
   "name": "python3"
  },
  "language_info": {
   "codemirror_mode": {
    "name": "ipython",
    "version": 3
   },
   "file_extension": ".py",
   "mimetype": "text/x-python",
   "name": "python",
   "nbconvert_exporter": "python",
   "pygments_lexer": "ipython3",
   "version": "3.9.12"
  }
 },
 "nbformat": 4,
 "nbformat_minor": 5
}
