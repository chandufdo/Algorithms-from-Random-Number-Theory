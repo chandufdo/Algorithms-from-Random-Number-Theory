{
 "cells": [
  {
   "cell_type": "code",
   "execution_count": 30,
   "id": "17104c15",
   "metadata": {},
   "outputs": [
    {
     "name": "stdout",
     "output_type": "stream",
     "text": [
      "[1.79603196 1.82304996 4.85782621 1.66170103 2.10898184 3.16668073\n",
      " 1.67585014 2.49343807 2.01377808 2.72896416 2.23784139 2.72325585\n",
      " 2.15118946 1.59271881 1.70961803 1.75760997 1.89782559 3.16308184\n",
      " 2.49363949 1.87035931 2.65556361 1.97685448 1.80551717 1.86192486\n",
      " 2.28051075 2.47399453 1.89316546 1.62743767 1.59323421 1.80456767\n",
      " 2.11605462 2.05695953 2.30127307 1.60385644 1.63646026 2.32776508\n",
      " 2.11003884 1.88204104 2.8134391  1.78615336 1.63543612 2.22637278\n",
      " 2.45390471 1.75634365 2.54469403 2.92779634 2.12222395 1.61191921\n",
      " 1.72539806 1.86208201 2.11755556 1.7433911  2.05312545 1.89006704\n",
      " 2.21257146 3.80744811 1.97607994 1.96491587 2.39653388 1.70272328\n",
      " 1.85904095 2.13087844 2.23388773 1.93551469 2.76826583 1.65818601\n",
      " 1.60456382 2.00863476 1.58612962 1.9241097  2.3719913  2.50366288\n",
      " 1.93620849 1.80251947 2.02763455 2.30454184 1.6276894  1.81029798\n",
      " 4.3329068  2.34523591 1.69322938 1.6126914  2.53811612 3.06602529\n",
      " 2.00767804 1.98535007 3.34167193 1.62034779 2.34238328 1.71165386\n",
      " 2.94913532 2.71764138 2.13553304 1.94628982 1.78165532 2.63129237\n",
      " 3.20871953 1.99090901 1.73144982 2.29604013]\n",
      "100\n"
     ]
    },
    {
     "data": {
      "text/plain": [
       "(array([1.28373762, 1.10034653, 0.68771658, 0.45847772, 0.36678218,\n",
       "        0.22923886, 0.13754332, 0.13754332, 0.04584777, 0.        ,\n",
       "        0.04584777, 0.        , 0.04584777, 0.        , 0.04584777]),\n",
       " array([1.58612962, 1.80424272, 2.02235583, 2.24046894, 2.45858204,\n",
       "        2.67669515, 2.89480825, 3.11292136, 3.33103447, 3.54914757,\n",
       "        3.76726068, 3.98537378, 4.20348689, 4.4216    , 4.6397131 ,\n",
       "        4.85782621]),\n",
       " <BarContainer object of 15 artists>)"
      ]
     },
     "execution_count": 30,
     "metadata": {},
     "output_type": "execute_result"
    },
    {
     "data": {
      "image/png": "[encoded data removed]",
      "text/plain": [
       "<Figure size 432x288 with 1 Axes>"
      ]
     },
     "metadata": {
      "needs_background": "light"
     },
     "output_type": "display_data"
    }
   ],
   "source": [
    "## Gamma type 2 \n",
    "\n",
    "# generate 100 rv following Gamma (-1,1)\n",
    "\n",
    "# generate U1, U2 following LCG\n",
    "\n",
    "import numpy as np\n",
    "import matplotlib.pyplot as plt\n",
    "import math\n",
    "\n",
    "n = 5000\n",
    "a = 16807\n",
    "c = 0\n",
    "m = 2147483647\n",
    "    \n",
    "al = -1 #alpha\n",
    "d = 0.07 + 0.75*(math.sqrt(1-al))\n",
    "b = 1 + (al/d)*(math.exp(-d))\n",
    "\n",
    "x1 = np.zeros(n+1)\n",
    "x1[0] = 0.5\n",
    "x2 = np.zeros(n+1)\n",
    "x2[0] = 0.8\n",
    "U1 = np.zeros(n)\n",
    "U2 = np.zeros(n)\n",
    "V = np.zeros(n)\n",
    "\n",
    "for i in range(1,n+1):\n",
    "    x1[i] = ((a * x1[i-1]) + c) % m\n",
    "    U1[i-1] = x1[i] / m\n",
    "    x2[i] = ((a * x2[i-1]) + c) % m\n",
    "    U2[i-1] = x2[i] / m\n",
    "    V[i-1] = b*U1[i-1]\n",
    "\n",
    "X1 = np.zeros(n)\n",
    "Y1 = np.zeros(n)\n",
    "Z = np.zeros(100) #RV following Gamma(0,1)\n",
    "\n",
    "count = 0\n",
    "k = 0 \n",
    "j = 0\n",
    "\n",
    "while count<100:\n",
    "    if V[k]<=1:\n",
    "        X1[k] = d*(V[k]**(1/(al)))\n",
    "        if U2[k]<=(2-X1[k])/(2+X1[k]) or U2[k]<=math.exp(-X1[k]):\n",
    "            Z[count] = X1[k]\n",
    "            count=count+1\n",
    "        k=k+1\n",
    "    if V[j]>1:\n",
    "        X1[j] = (-1)*np.log((d*(b-V[j]))/al)\n",
    "        Y1[j] = X1[j]/d\n",
    "        if (al + Y[1-al])*U2[j]<=1 or U2[j]<= (Y[j]**(al-1)):\n",
    "            Z[count] = X1[j]\n",
    "            count= count+1\n",
    "        j=j+1\n",
    "        \n",
    "        \n",
    "\n",
    "print(Z)\n",
    "print(len(Z))\n",
    "\n",
    "\n",
    "plt.figure(1)\n",
    "plt.hist(Z,bins=15,density=True)\n"
   ]
  },
  {
   "cell_type": "code",
   "execution_count": 43,
   "id": "6a46e505",
   "metadata": {},
   "outputs": [
    {
     "name": "stdout",
     "output_type": "stream",
     "text": [
      "1.0\n",
      "-0.45765755436028577\n"
     ]
    }
   ],
   "source": [
    "import numpy as np \n",
    "import math \n",
    "\n",
    "p = math.pi\n",
    "s = math.sin(p/2)\n",
    "q = 1/math.tan(2)\n",
    "\n",
    "print(s)\n",
    "print(q)"
   ]
  },
  {
   "cell_type": "code",
   "execution_count": 39,
   "id": "6d9edabc",
   "metadata": {},
   "outputs": [
    {
     "name": "stdout",
     "output_type": "stream",
     "text": [
      "1.0\n"
     ]
    }
   ],
   "source": [
    "import numpy as np \n",
    "import math \n",
    "\n",
    "p = math.pi\n",
    "s = math.sin(p/2)\n",
    "print(s)"
   ]
  },
  {
   "cell_type": "code",
   "execution_count": null,
   "id": "3f2b00dd",
   "metadata": {},
   "outputs": [],
   "source": [
    "\n"
   ]
  }
 ],
 "metadata": {
  "kernelspec": {
   "display_name": "Python 3 (ipykernel)",
   "language": "python",
   "name": "python3"
  },
  "language_info": {
   "codemirror_mode": {
    "name": "ipython",
    "version": 3
   },
   "file_extension": ".py",
   "mimetype": "text/x-python",
   "name": "python",
   "nbconvert_exporter": "python",
   "pygments_lexer": "ipython3",
   "version": "3.9.12"
  }
 },
 "nbformat": 4,
 "nbformat_minor": 5
}
