{
 "cells": [
  {
   "cell_type": "code",
   "execution_count": 3,
   "id": "030a9ad4",
   "metadata": {},
   "outputs": [
    {
     "name": "stdout",
     "output_type": "stream",
     "text": [
      "Enter size of identitiy matrix: 5\n",
      "At the start A =  [[1. 1. 1. 1. 1.]\n",
      " [0. 1. 0. 0. 0.]\n",
      " [0. 0. 1. 0. 0.]\n",
      " [0. 0. 0. 1. 0.]\n",
      " [0. 0. 0. 0. 1.]]\n",
      "Random matrix of size d:  [[1196828790]\n",
      " [ 901076944]\n",
      " [ 780445843]\n",
      " [1084974480]\n",
      " [1161535394]]\n",
      "[array([[0.38644958],\n",
      "       [0.41959665],\n",
      "       [0.36342342],\n",
      "       [0.50523061],\n",
      "       [0.54088207]]), array([[0.38644958],\n",
      "       [0.41959665],\n",
      "       [0.36342342],\n",
      "       [0.50523061],\n",
      "       [0.54088207]]), array([[0.38644958],\n",
      "       [0.41959665],\n",
      "       [0.36342342],\n",
      "       [0.50523061],\n",
      "       [0.54088207]]), array([[0.38644958],\n",
      "       [0.41959665],\n",
      "       [0.36342342],\n",
      "       [0.50523061],\n",
      "       [0.54088207]]), array([[0.38644958],\n",
      "       [0.41959665],\n",
      "       [0.36342342],\n",
      "       [0.50523061],\n",
      "       [0.54088207]])]\n"
     ]
    },
    {
     "data": {
      "image/png": "[encoded data removed]",
      "text/plain": [
       "<Figure size 432x288 with 1 Axes>"
      ]
     },
     "metadata": {
      "needs_background": "light"
     },
     "output_type": "display_data"
    }
   ],
   "source": [
    "import numpy as np \n",
    "import random \n",
    "import matplotlib.pyplot as plt\n",
    "\n",
    "\n",
    "d = int(input(\"Enter size of identitiy matrix: \"))\n",
    "A = np.identity(d)\n",
    "\n",
    "A[0]=1\n",
    "print(\"At the start A = \",A)\n",
    "\n",
    "m = 2 ** 31 - 1\n",
    "\n",
    "x0 = np.random.randint(0,m,size=(d, 1))\n",
    "print(\"Random matrix of size d: \",x0)\n",
    "\n",
    "XtArray = []\n",
    "UtArray = []\n",
    "\n",
    "for i in range(d):\n",
    "    XtArray.append(np.mod(np.matmul(A,x0),m))\n",
    "    UtArray.append(np.mod(np.matmul(A,x0),m) / m)\n",
    "    x01 = (np.matmul(A,x0))%m\n",
    "print(UtArray)\n",
    "\n",
    "\n",
    "plt.imshow(UtArray)\n",
    "\n",
    "plt.show()"
   ]
  },
  {
   "cell_type": "code",
   "execution_count": null,
   "id": "14b696c3",
   "metadata": {},
   "outputs": [],
   "source": [
    "import numpy as np\n",
    "import random\n",
    "import math\n",
    "from numpy import random\n",
    "\n",
    "x0 = np.random.randint(0,m,size=(dimension, 1))\n",
    "print(x0)"
   ]
  },
  {
   "cell_type": "markdown",
   "id": "da4bbfca",
   "metadata": {},
   "source": [
    "import numpy as np \n",
    "import random \n",
    "\n",
    "d = int(input(\"Enter size of identity matrix\")\n"
   ]
  },
  {
   "cell_type": "code",
   "execution_count": 1,
   "id": "136e1489",
   "metadata": {},
   "outputs": [
    {
     "name": "stdout",
     "output_type": "stream",
     "text": [
      "Enter size of identitiy matrix: 3\n",
      "At the start A =  [[1. 1. 1.]\n",
      " [0. 1. 0.]\n",
      " [0. 0. 1.]]\n",
      "Random matrix of size d:  [[253037474]\n",
      " [524945761]\n",
      " [591560033]]\n",
      "[array([[0.63774328],\n",
      "       [0.24444692],\n",
      "       [0.27546661]]), array([[0.63774328],\n",
      "       [0.24444692],\n",
      "       [0.27546661]]), array([[0.63774328],\n",
      "       [0.24444692],\n",
      "       [0.27546661]])]\n"
     ]
    }
   ],
   "source": []
  },
  {
   "cell_type": "code",
   "execution_count": null,
   "id": "55df69b2",
   "metadata": {},
   "outputs": [],
   "source": []
  },
  {
   "cell_type": "code",
   "execution_count": null,
   "id": "ff5dd137",
   "metadata": {},
   "outputs": [],
   "source": []
  },
  {
   "cell_type": "code",
   "execution_count": null,
   "id": "2a5ebd21",
   "metadata": {},
   "outputs": [],
   "source": []
  },
  {
   "cell_type": "code",
   "execution_count": null,
   "id": "5334205d",
   "metadata": {},
   "outputs": [],
   "source": [
    "\n"
   ]
  },
  {
   "cell_type": "code",
   "execution_count": null,
   "id": "bd6fcae9",
   "metadata": {},
   "outputs": [],
   "source": []
  }
 ],
 "metadata": {
  "kernelspec": {
   "display_name": "Python 3 (ipykernel)",
   "language": "python",
   "name": "python3"
  },
  "language_info": {
   "codemirror_mode": {
    "name": "ipython",
    "version": 3
   },
   "file_extension": ".py",
   "mimetype": "text/x-python",
   "name": "python",
   "nbconvert_exporter": "python",
   "pygments_lexer": "ipython3",
   "version": "3.9.12"
  }
 },
 "nbformat": 4,
 "nbformat_minor": 5
}
